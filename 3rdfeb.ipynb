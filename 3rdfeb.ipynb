{
 "cells": [
  {
   "cell_type": "code",
   "execution_count": 1,
   "id": "25536b8c-a770-44d9-b941-f46c83a0eb41",
   "metadata": {},
   "outputs": [],
   "source": [
    "##Q1. Which keyword is used to create a function? Create a function to return a list of odd numbers in the range of 1 to 25."
   ]
  },
  {
   "cell_type": "code",
   "execution_count": 2,
   "id": "d8524f2b-b176-4e61-8775-5c1be44ce5c3",
   "metadata": {},
   "outputs": [],
   "source": [
    "##The def keyword is used to create a function.\n",
    "l = range(1,25)\n",
    "l1 = []\n",
    "def oddnum(l) :\n",
    "    for i in l :\n",
    "        if i%2 != 0 :\n",
    "            l1.append(i)\n",
    "    return l1"
   ]
  },
  {
   "cell_type": "code",
   "execution_count": 3,
   "id": "25b1a511-09e8-440d-bb5f-3c9bb4c8115d",
   "metadata": {},
   "outputs": [
    {
     "data": {
      "text/plain": [
       "[1, 3, 5, 7, 9, 11, 13, 15, 17, 19, 21, 23]"
      ]
     },
     "execution_count": 3,
     "metadata": {},
     "output_type": "execute_result"
    }
   ],
   "source": [
    "oddnum(l)"
   ]
  },
  {
   "cell_type": "code",
   "execution_count": 4,
   "id": "b77a3b01-27f3-46e4-a071-a8ddb04709c7",
   "metadata": {},
   "outputs": [],
   "source": [
    "##Q2. Why *args and **kwargs is used in some functions? Create a function each for *args and **kwargs to demonstrate their use."
   ]
  },
  {
   "cell_type": "code",
   "execution_count": 5,
   "id": "1bb165b9-e316-4cd1-a054-9473bd7addb2",
   "metadata": {},
   "outputs": [],
   "source": [
    "##We can use *args and **kwargs as arguments of a function when you are unsure about the number of arguments to pass in the functions.\n",
    "def test(a, *b,**c):\n",
    "    print(a)\n",
    "    for i in b:\n",
    "        print(i)\n",
    "    print(\"Responsibilities:\")\n",
    "    for d,e in c.items():\n",
    "        print(d,e)"
   ]
  },
  {
   "cell_type": "code",
   "execution_count": 6,
   "id": "115ec85f-464c-49cf-bdf7-386d111d7216",
   "metadata": {},
   "outputs": [
    {
     "name": "stdout",
     "output_type": "stream",
     "text": [
      "students:\n",
      "vishal\n",
      "raj\n",
      "shivam\n",
      "kumar\n",
      "mohit\n",
      "prakash\n",
      "Responsibilities:\n",
      "vishal  coordinator\n",
      "shivam  developer\n",
      "mohit  instructor\n"
     ]
    }
   ],
   "source": [
    "a = \"students:\"\n",
    "b = [\"vishal\", \"raj\",\"shivam\", \"kumar\", \"mohit\", \"prakash\"]\n",
    "c ={\"vishal\":\" coordinator\", \"shivam\":\" developer\", \"mohit\":\" instructor\"}\n",
    "test(a,*b,**c)"
   ]
  },
  {
   "cell_type": "code",
   "execution_count": 7,
   "id": "245e9feb-8374-4873-99b0-291126f4fd5a",
   "metadata": {},
   "outputs": [],
   "source": [
    "##Q3. What is an iterator in python? Name the method used to initialise the iterator object and the method used for iteration.\n",
    "##Use these methods to print the first five elements of the given list [2, 4, 6, 8, 10, 12, 14, 16, 18, 20]."
   ]
  },
  {
   "cell_type": "code",
   "execution_count": 8,
   "id": "8338e102-6685-4312-9935-f59d2ea25d6c",
   "metadata": {},
   "outputs": [
    {
     "name": "stdout",
     "output_type": "stream",
     "text": [
      "2\n",
      "4\n",
      "6\n",
      "8\n",
      "10\n"
     ]
    }
   ],
   "source": [
    "##An iterator is an object that contains a countable number of values.\n",
    "##Iter() method is used to initialize the iterator object so that the instance of this object can be used for iterating.\n",
    "l = [2, 4, 6, 8, 10, 12, 14, 16, 18, 20]\n",
    "l1 = iter(l)\n",
    "for i in range(5):\n",
    "    print(next(l1))"
   ]
  },
  {
   "cell_type": "code",
   "execution_count": 9,
   "id": "3d72c693-9504-4dd4-b263-44fe235f2e8b",
   "metadata": {},
   "outputs": [],
   "source": [
    "##Q4. What is a generator function in python? Why yield keyword is used? Give an example of a generator function."
   ]
  },
  {
   "cell_type": "code",
   "execution_count": 10,
   "id": "dc4d7b85-364d-47cd-8a34-822e3b41f9e7",
   "metadata": {},
   "outputs": [],
   "source": [
    "##A generator is a function that returns an iterator that produces a sequence of values when iterated over.\n",
    "##The yield keyword will convert an expression that is specified along with it to a generator object and return it to the caller.\n",
    "def evengen(n):\n",
    "    for i in range(n):\n",
    "        if i%2 == 0:\n",
    "            yield i\n",
    "               "
   ]
  },
  {
   "cell_type": "code",
   "execution_count": 11,
   "id": "937b6b2b-6043-4424-85a7-a781c97b0bed",
   "metadata": {},
   "outputs": [
    {
     "name": "stdout",
     "output_type": "stream",
     "text": [
      "0\n",
      "2\n",
      "4\n",
      "6\n",
      "8\n"
     ]
    }
   ],
   "source": [
    "for i in evengen(10):\n",
    "    print(i)"
   ]
  },
  {
   "cell_type": "code",
   "execution_count": 12,
   "id": "39449c05-fa34-4236-a653-83b9518f2c74",
   "metadata": {},
   "outputs": [],
   "source": [
    "##Q5. Create a generator function for prime numbers less than 1000. Use the next() method to print the first 20 prime numbers."
   ]
  },
  {
   "cell_type": "code",
   "execution_count": 13,
   "id": "680d1361-a54a-4529-a912-445c07946a16",
   "metadata": {},
   "outputs": [
    {
     "name": "stdout",
     "output_type": "stream",
     "text": [
      "0\n",
      "1\n",
      "1\n",
      "2\n",
      "3\n",
      "5\n",
      "8\n",
      "13\n",
      "21\n",
      "34\n"
     ]
    }
   ],
   "source": [
    "##Q6. Write a python program to print the first 10 Fibonacci numbers using a while loop.\n",
    "a,b = 0,1\n",
    "count = 0\n",
    "while count < 10:\n",
    "    print(a)\n",
    "    a,b = b,b+a\n",
    "    count = count+1"
   ]
  },
  {
   "cell_type": "code",
   "execution_count": 14,
   "id": "7d85890b-de11-40d5-b823-c50b43cc7a34",
   "metadata": {},
   "outputs": [
    {
     "data": {
      "text/plain": [
       "['p', 'w', 's', 'k', 'i', 'l', 'l', 's']"
      ]
     },
     "execution_count": 14,
     "metadata": {},
     "output_type": "execute_result"
    }
   ],
   "source": [
    "##Q7. Write a List Comprehension to iterate through the given string: ‘pwskills’.\n",
    "##Expected output: ['p', 'w', 's', 'k', 'i', 'l', 'l', 's']\n",
    "s = 'pwskills'\n",
    "[i for i in s]"
   ]
  },
  {
   "cell_type": "code",
   "execution_count": 15,
   "id": "f527636d-7bcf-48b9-93a6-8506b3658b74",
   "metadata": {},
   "outputs": [
    {
     "name": "stdin",
     "output_type": "stream",
     "text": [
      "enter number 1221\n"
     ]
    },
    {
     "name": "stdout",
     "output_type": "stream",
     "text": [
      "yes\n"
     ]
    }
   ],
   "source": [
    "##Q8. Write a python program to check whether a given number is Palindrome or not using a while loop.\n",
    "n = int(input(\"enter number\"))\n",
    "reverse = 0\n",
    "original = n\n",
    "while n>0:\n",
    "    reverse = (reverse*10)+(n%10)\n",
    "    n = n//10\n",
    "if (reverse == original):\n",
    "    print(\"yes\")\n",
    "else :\n",
    "    print(\"no\")"
   ]
  },
  {
   "cell_type": "code",
   "execution_count": 16,
   "id": "a9e5c298-1e1c-4545-98b2-e8f49b9d4336",
   "metadata": {},
   "outputs": [
    {
     "data": {
      "text/plain": [
       "[1,\n",
       " 3,\n",
       " 5,\n",
       " 7,\n",
       " 9,\n",
       " 11,\n",
       " 13,\n",
       " 15,\n",
       " 17,\n",
       " 19,\n",
       " 21,\n",
       " 23,\n",
       " 25,\n",
       " 27,\n",
       " 29,\n",
       " 31,\n",
       " 33,\n",
       " 35,\n",
       " 37,\n",
       " 39,\n",
       " 41,\n",
       " 43,\n",
       " 45,\n",
       " 47,\n",
       " 49,\n",
       " 51,\n",
       " 53,\n",
       " 55,\n",
       " 57,\n",
       " 59,\n",
       " 61,\n",
       " 63,\n",
       " 65,\n",
       " 67,\n",
       " 69,\n",
       " 71,\n",
       " 73,\n",
       " 75,\n",
       " 77,\n",
       " 79,\n",
       " 81,\n",
       " 83,\n",
       " 85,\n",
       " 87,\n",
       " 89,\n",
       " 91,\n",
       " 93,\n",
       " 95,\n",
       " 97,\n",
       " 99]"
      ]
     },
     "execution_count": 16,
     "metadata": {},
     "output_type": "execute_result"
    }
   ],
   "source": [
    "##Q9. Write a code to print odd numbers from 1 to 100 using list comprehension.\n",
    "[i for i in range(100) if i % 2 != 0]"
   ]
  },
  {
   "cell_type": "code",
   "execution_count": null,
   "id": "b296f41c-b4bd-49ee-9d60-2b6d76f0265a",
   "metadata": {},
   "outputs": [],
   "source": []
  }
 ],
 "metadata": {
  "kernelspec": {
   "display_name": "Python 3 (ipykernel)",
   "language": "python",
   "name": "python3"
  },
  "language_info": {
   "codemirror_mode": {
    "name": "ipython",
    "version": 3
   },
   "file_extension": ".py",
   "mimetype": "text/x-python",
   "name": "python",
   "nbconvert_exporter": "python",
   "pygments_lexer": "ipython3",
   "version": "3.10.6"
  }
 },
 "nbformat": 4,
 "nbformat_minor": 5
}
